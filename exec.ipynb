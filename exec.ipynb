{
 "cells": [
  {
   "cell_type": "code",
   "execution_count": 1,
   "metadata": {},
   "outputs": [],
   "source": [
    "import os\n",
    "from dotenv import load_dotenv\n",
    "from src import env_builder\n",
    "\n",
    "# Carrega as variáveis de ambiente\n",
    "_ = load_dotenv()\n",
    "\n",
    "# Obtém o SUBSCRIPTION_ID do ambiente\n",
    "SUBSCRIPTION_ID = os.environ.get('SUBSCRIPTION_ID')\n",
    "\n",
    "# Cria um nome para o grupo de recursos\n",
    "resource_group_name = 'rg-dev-ml-eastus-001'\n",
    "# Seleciona uma localização\n",
    "location = 'eastus'\n",
    "# Cria o recurso\n",
    "env_builder.get_or_create_rg(\n",
    "    resource_group_name=resource_group_name,\n",
    "    location=location,\n",
    "    subscription_id=SUBSCRIPTION_ID\n",
    ")"
   ]
  },
  {
   "cell_type": "code",
   "execution_count": 2,
   "metadata": {},
   "outputs": [
    {
     "name": "stderr",
     "output_type": "stream",
     "text": [
      "c:\\Users\\rafae\\Documents\\Projects\\end-to-end-ml-post\\src\\env_builder.py:68: UserWarning: Adicionando acesso anônimo ao blob.\n",
      "  warnings.warn('Adicionando acesso anônimo ao blob.')\n"
     ]
    }
   ],
   "source": [
    "# Cria um nome para a conta de armazenamento\n",
    "storage_account_name = 'datadevmleastus001'\n",
    "# Cria o recurso\n",
    "rg_deployment_result = env_builder.create_storage_account(\n",
    "    storage_account_name=storage_account_name,\n",
    "    subscription_id=SUBSCRIPTION_ID,\n",
    "    resource_group_name=resource_group_name,\n",
    "    location=location\n",
    ")\n",
    "# Obtém informações de saída sobre a conta de armazenamento\n",
    "storage_account_info = rg_deployment_result.properties.as_dict()['outputs']"
   ]
  },
  {
   "cell_type": "code",
   "execution_count": 6,
   "metadata": {},
   "outputs": [],
   "source": [
    "# depois de criar a storage account e coletar a connection string\n",
    "os.environ['CONNECTION_STRING_STORAGE_ACCOUNT'] = storage_account_info['storageAccountConnectionString']['value']\n",
    "conn_string_storage_account = os.environ.get('CONNECTION_STRING_STORAGE_ACCOUNT')"
   ]
  },
  {
   "cell_type": "code",
   "execution_count": 8,
   "metadata": {},
   "outputs": [],
   "source": [
    "# Cria um cliente Blob usando a string de conexão\n",
    "blob_client = env_builder.get_blob_service_client_connection_string(\n",
    "    conn_string_storage_account=conn_string_storage_account\n",
    ")\n",
    "\n",
    "# Nome do contêiner\n",
    "container_name = 'data4ml'\n",
    "\n",
    "# Cria o contêiner e/ou recupera o cliente do contêiner\n",
    "container_client = env_builder.create_blob_container(blob_service_client=blob_client, container_name=container_name)"
   ]
  },
  {
   "cell_type": "code",
   "execution_count": null,
   "metadata": {},
   "outputs": [],
   "source": [
    "import pandas as pd\n",
    "from sklearn.model_selection import train_test_split\n",
    "\n",
    "# carregar os dados como um DataFrame pandas\n",
    "df = pd.read_csv('heart.csv', index_col=0)\n",
    "# utilizamos o modelo de split do scikit-learn para separar 10% dos dados como dataset de test\n",
    "xtrain, xtest, _, _ = train_test_split(df, df['output'], test_size=0.1)\n",
    "# salvamos os datasets separados para podermos testar a inferencia com o `heart.test.csv`\n",
    "xtrain.to_csv('heart.csv', index=False)\n",
    "xtest.to_csv('heart.test.csv', index=False)"
   ]
  },
  {
   "cell_type": "code",
   "execution_count": 9,
   "metadata": {},
   "outputs": [],
   "source": [
    "# Caminho para o arquivo do conjunto de dados\n",
    "filepath = 'heart.csv'\n",
    "# Faz o upload do arquivo usando o cliente do contêiner\n",
    "env_builder.upload_blob_file(\n",
    "    filepath=filepath, blobname=filepath,\n",
    "    container_client=container_client\n",
    ")"
   ]
  },
  {
   "cell_type": "code",
   "execution_count": null,
   "metadata": {},
   "outputs": [],
   "source": [
    "# Nome do workspace a ser criado\n",
    "workspace = 'dev-heart-classifier'\n",
    "\n",
    "# Criando o workspace\n",
    "ml_client = env_builder.get_mlclient_and_create_workspace(\n",
    "    subscription_id=SUBSCRIPTION_ID,\n",
    "    resource_group=resource_group_name,\n",
    "    location=location,\n",
    "    workspace=workspace\n",
    ")"
   ]
  },
  {
   "cell_type": "code",
   "execution_count": 11,
   "metadata": {},
   "outputs": [],
   "source": [
    "# Caminho para o arquivo yaml\n",
    "conda_yaml_path='conda.yaml'\n",
    "# Imagem base a ser usada no Environment\n",
    "base_image=\"mcr.microsoft.com/azureml/openmpi4.1.0-ubuntu20.04:latest\"\n",
    "# Descrição do ambiente, pode conter qualquer informação útil.\n",
    "description = ''\n",
    "\n",
    "# Cria o Environment\n",
    "job_env = env_builder.get_or_create_enviroment(\n",
    "    ml_client=ml_client, conda_yaml_path=conda_yaml_path,\n",
    "    base_image=base_image, description=description\n",
    ")"
   ]
  },
  {
   "cell_type": "code",
   "execution_count": null,
   "metadata": {},
   "outputs": [],
   "source": [
    "# Nome do workspace onde o cluster será criado\n",
    "workspace = 'dev-heart-classifier'\n",
    "# Configuração do cluster\n",
    "config = {\n",
    "    'name': \"heartclassifycluster\",  # Nome do cluster\n",
    "    'type': \"amlcompute\",\n",
    "    'size': \"STANDARD_DS3_v2\",  # Instância de computação a ser usada. Isso pode mudar dependendo da carga de trabalho\n",
    "    'location': \"eastus\",  # Localização do recurso\n",
    "    'min_instances': 0,\n",
    "    'max_instances': 1,\n",
    "    'idle_time_before_scale_down': 10  # Tempo ocioso antes de desligar o recurso de computação. Isso ajuda a lançar vários trabalhos sem se preocupar que a VM esteja ligada o tempo todo.\n",
    "}\n",
    "# Cria o cluster e retorna os detalhes da operação\n",
    "cluster_info = env_builder.get_or_create_compute_cluster(\n",
    "    ml_client=ml_client, cluster_config=config\n",
    ")"
   ]
  },
  {
   "cell_type": "code",
   "execution_count": null,
   "metadata": {},
   "outputs": [],
   "source": [
    "# env_builder.ml_workspace_deletion(ml_client=ml_client, workspace=workspace)\n",
    "\n",
    "# delete_result = env_builder.get_and_delete_rg(\n",
    "#     resource_group_name=resource_group_name,\n",
    "#     subscription_id=SUBSCRIPTION_ID\n",
    "# )"
   ]
  }
 ],
 "metadata": {
  "kernelspec": {
   "display_name": ".venv",
   "language": "python",
   "name": "python3"
  },
  "language_info": {
   "codemirror_mode": {
    "name": "ipython",
    "version": 3
   },
   "file_extension": ".py",
   "mimetype": "text/x-python",
   "name": "python",
   "nbconvert_exporter": "python",
   "pygments_lexer": "ipython3",
   "version": "3.10.11"
  }
 },
 "nbformat": 4,
 "nbformat_minor": 2
}
